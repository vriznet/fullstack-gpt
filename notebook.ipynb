{
 "cells": [
  {
   "cell_type": "code",
   "execution_count": 3,
   "metadata": {},
   "outputs": [
    {
     "name": "stderr",
     "output_type": "stream",
     "text": [
      "Error in StdOutCallbackHandler.on_chain_start callback: AttributeError(\"'NoneType' object has no attribute 'get'\")\n"
     ]
    },
    {
     "name": "stdout",
     "output_type": "stream",
     "text": [
      "\u001b[32;1m\u001b[1;3mAction: sql_db_list_tables\n",
      "Action Input: \u001b[0m\u001b[38;5;200m\u001b[1;3mdirectors, movies\u001b[0m\u001b[32;1m\u001b[1;3mI should query the schema of the 'movies' and 'directors' tables to see what columns are available for me to use in my query.\n",
      "Action: sql_db_schema\n",
      "Action Input: movies, directors\u001b[0m\u001b[33;1m\u001b[1;3m\n",
      "CREATE TABLE directors (\n",
      "\tname TEXT, \n",
      "\tid INTEGER, \n",
      "\tgender INTEGER, \n",
      "\tuid INTEGER, \n",
      "\tdepartment TEXT, \n",
      "\tPRIMARY KEY (id)\n",
      ")\n",
      "\n",
      "/*\n",
      "3 rows from directors table:\n",
      "name\tid\tgender\tuid\tdepartment\n",
      "James Cameron\t4762\t2\t2710\tDirecting\n",
      "Gore Verbinski\t4763\t2\t1704\tDirecting\n",
      "Sam Mendes\t4764\t2\t39\tDirecting\n",
      "*/\n",
      "\n",
      "\n",
      "CREATE TABLE movies (\n",
      "\tid INTEGER, \n",
      "\toriginal_title VARCHAR, \n",
      "\tbudget INTEGER, \n",
      "\tpopularity INTEGER, \n",
      "\trelease_date TEXT, \n",
      "\trevenue INTEGER, \n",
      "\ttitle TEXT, \n",
      "\tvote_average REAL, \n",
      "\tvote_count INTEGER, \n",
      "\toverview TEXT, \n",
      "\ttagline TEXT, \n",
      "\tuid INTEGER, \n",
      "\tdirector_id INTEGER DEFAULT 0 NOT NULL, \n",
      "\tPRIMARY KEY (id)\n",
      ")\n",
      "\n",
      "/*\n",
      "3 rows from movies table:\n",
      "id\toriginal_title\tbudget\tpopularity\trelease_date\trevenue\ttitle\tvote_average\tvote_count\toverview\ttagline\tuid\tdirector_id\n",
      "43597\tAvatar\t237000000\t150\t2009-12-10\t2787965087\tAvatar\t7.2\t11800\tIn the 22nd century, a paraplegic Marine is dispatched to the moon Pandora on a unique mission, but \tEnter the World of Pandora.\t19995\t4762\n",
      "43598\tPirates of the Caribbean: At World's End\t300000000\t139\t2007-05-19\t961000000\tPirates of the Caribbean: At World's End\t6.9\t4500\tCaptain Barbossa, long believed to be dead, has come back to life and is headed to the edge of the E\tAt the end of the world, the adventure begins.\t285\t4763\n",
      "43599\tSpectre\t245000000\t107\t2015-10-26\t880674609\tSpectre\t6.3\t4466\tA cryptic message from Bond’s past sends him on a trail to uncover a sinister organization. While M \tA Plan No One Escapes\t206647\t4764\n",
      "*/\u001b[0m\u001b[32;1m\u001b[1;3mI can query the 'movies' table to get the movies with the highest votes and lowest budgets, then join with the 'directors' table to get the names of their directors.\n",
      "Action: sql_db_query\n",
      "Action Input: SELECT m.original_title AS movie_title, d.name AS director_name\n",
      "FROM movies m\n",
      "JOIN directors d ON m.director_id = d.id\n",
      "ORDER BY m.vote_count DESC, m.budget ASC\n",
      "LIMIT 10;\u001b[0m\u001b[36;1m\u001b[1;3m[('Inception', 'Christopher Nolan'), ('The Dark Knight', 'Christopher Nolan'), ('Avatar', 'James Cameron'), ('The Avengers', 'Joss Whedon'), ('Deadpool', 'Tim Miller'), ('Interstellar', 'Christopher Nolan'), ('Django Unchained', 'Quentin Tarantino'), ('Guardians of the Galaxy', 'James Gunn'), ('The Hunger Games', 'Gary Ross'), ('Mad Max: Fury Road', 'George Miller')]\u001b[0m\u001b[32;1m\u001b[1;3mI now know the final answer.\n",
      "\n",
      "Final Answer: The movies with the highest votes but the lowest budgets and their directors are:\n",
      "1. Inception - Christopher Nolan\n",
      "2. The Dark Knight - Christopher Nolan\n",
      "3. Avatar - James Cameron\n",
      "4. The Avengers - Joss Whedon\n",
      "5. Deadpool - Tim Miller\n",
      "6. Interstellar - Christopher Nolan\n",
      "7. Django Unchained - Quentin Tarantino\n",
      "8. Guardians of the Galaxy - James Gunn\n",
      "9. The Hunger Games - Gary Ross\n",
      "10. Mad Max: Fury Road - George Miller\u001b[0m\n",
      "\n",
      "\u001b[1m> Finished chain.\u001b[0m\n"
     ]
    },
    {
     "data": {
      "text/plain": [
       "{'input': 'Give me the the movies that have the highest votes but the lowest budgets and give me the names of their director',\n",
       " 'output': 'The movies with the highest votes but the lowest budgets and their directors are:\\n1. Inception - Christopher Nolan\\n2. The Dark Knight - Christopher Nolan\\n3. Avatar - James Cameron\\n4. The Avengers - Joss Whedon\\n5. Deadpool - Tim Miller\\n6. Interstellar - Christopher Nolan\\n7. Django Unchained - Quentin Tarantino\\n8. Guardians of the Galaxy - James Gunn\\n9. The Hunger Games - Gary Ross\\n10. Mad Max: Fury Road - George Miller'}"
      ]
     },
     "execution_count": 3,
     "metadata": {},
     "output_type": "execute_result"
    }
   ],
   "source": [
    "from langchain.agents import create_sql_agent, AgentType\n",
    "from langchain.chat_models.openai import ChatOpenAI\n",
    "from langchain.agents.agent_toolkits import SQLDatabaseToolkit\n",
    "from langchain.sql_database import SQLDatabase\n",
    "\n",
    "llm = ChatOpenAI(\n",
    "    model=\"gpt-3.5-turbo\",\n",
    "    temperature=0.1,\n",
    ")\n",
    "\n",
    "db = SQLDatabase.from_uri(\"sqlite:///movies.sqlite\")\n",
    "toolkit = SQLDatabaseToolkit(db=db, llm=llm)\n",
    "\n",
    "agent = create_sql_agent(\n",
    "    llm=llm,\n",
    "    toolkit=toolkit,\n",
    "    agent_type=AgentType.ZERO_SHOT_REACT_DESCRIPTION,\n",
    "    verbose=True,\n",
    ")\n",
    "\n",
    "agent.invoke(\n",
    "    \"Give me the the movies that have the highest votes but the lowest budgets\"\n",
    "    \" and give me the names of their director\"\n",
    ")"
   ]
  }
 ],
 "metadata": {
  "kernelspec": {
   "display_name": "env",
   "language": "python",
   "name": "python3"
  },
  "language_info": {
   "codemirror_mode": {
    "name": "ipython",
    "version": 3
   },
   "file_extension": ".py",
   "mimetype": "text/x-python",
   "name": "python",
   "nbconvert_exporter": "python",
   "pygments_lexer": "ipython3",
   "version": "3.11.6"
  }
 },
 "nbformat": 4,
 "nbformat_minor": 2
}
