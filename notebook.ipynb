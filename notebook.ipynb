{
 "cells": [
  {
   "cell_type": "code",
   "execution_count": 23,
   "metadata": {},
   "outputs": [],
   "source": [
    "from langchain.chat_models import ChatOpenAI\n",
    "from langchain.prompts import ChatPromptTemplate\n",
    "from langchain.callbacks import StreamingStdOutCallbackHandler\n",
    "\n",
    "chat = ChatOpenAI(\n",
    "    model_name=\"gpt-3.5-turbo\",\n",
    "    temperature=0.1,\n",
    "    streaming=True,\n",
    "    callbacks=[StreamingStdOutCallbackHandler()],\n",
    ")"
   ]
  },
  {
   "cell_type": "code",
   "execution_count": 24,
   "metadata": {},
   "outputs": [],
   "source": [
    "from langchain.schema import BaseOutputParser\n",
    "\n",
    "\n",
    "class CommaOutputParser(BaseOutputParser):\n",
    "    def parse(self, text):\n",
    "        items = text.strip().split(\",\")\n",
    "        return list(map(str.strip, items))"
   ]
  },
  {
   "cell_type": "code",
   "execution_count": 25,
   "metadata": {},
   "outputs": [],
   "source": [
    "chef_prompt = ChatPromptTemplate.from_messages(\n",
    "    [\n",
    "        (\n",
    "            \"system\",\n",
    "            (\n",
    "                \"You are a world-class chef. You create easy to follow recipes\"\n",
    "                \" for any type of cuisine with easy to find ingredients.\"\n",
    "            ),\n",
    "        ),\n",
    "        (\"human\", \"I want to cook {cuisine} food.\"),\n",
    "    ]\n",
    ")\n",
    "text = (\n",
    "    \"You are a vegeterian chef specialized on making traditional recipes for\"\n",
    "    \" vegeterian. You find alternative ingredients and explain their\"\n",
    "    \" preparation. You don't radically modify the recipe. If there is no\"\n",
    "    \" alternative for a food just say you don't know how to replace it.\"\n",
    ")\n",
    "chef_chain = chef_prompt | chat"
   ]
  },
  {
   "cell_type": "code",
   "execution_count": 26,
   "metadata": {},
   "outputs": [
    {
     "name": "stdout",
     "output_type": "stream",
     "text": [
      "Great choice! Indian cuisine is known for its bold flavors and aromatic spices. Let's start with a classic recipe for Chicken Tikka Masala, a popular dish loved by many. Here's a simple recipe for you to try at home:\n",
      "\n",
      "Chicken Tikka Masala\n",
      "\n",
      "Ingredients:\n",
      "- 1 lb boneless, skinless chicken breasts, cut into bite-sized pieces\n",
      "- 1 cup plain yogurt\n",
      "- 2 tbsp lemon juice\n",
      "- 2 tsp ground cumin\n",
      "- 2 tsp ground coriander\n",
      "- 1 tsp turmeric\n",
      "- 1 tsp paprika\n",
      "- 1 tsp garam masala\n",
      "- 1/2 tsp cayenne pepper (adjust to taste)\n",
      "- Salt and pepper to taste\n",
      "- 2 tbsp vegetable oil\n",
      "- 1 onion, finely chopped\n",
      "- 3 cloves garlic, minced\n",
      "- 1-inch piece of ginger, grated\n",
      "- 1 can (14 oz) crushed tomatoes\n",
      "- 1 cup heavy cream\n",
      "- Fresh cilantro, chopped (for garnish)\n",
      "\n",
      "Instructions:\n",
      "1. In a bowl, combine yogurt, lemon juice, cumin, coriander, turmeric, paprika, garam masala, cayenne pepper, salt, and pepper. Add the chicken pieces and coat them well with the marinade. Cover and refrigerate for at least 1 hour, or overnight for best results.\n",
      "\n",
      "2. Preheat the oven to 400°F (200°C). Thread the marinated chicken onto skewers and place them on a baking sheet lined with foil. Bake for 20-25 minutes or until the chicken is cooked through.\n",
      "\n",
      "3. In a large skillet, heat vegetable oil over medium heat. Add the chopped onion and cook until softened, about 5 minutes. Add the garlic and ginger, and cook for another minute until fragrant.\n",
      "\n",
      "4. Stir in the crushed tomatoes and simmer for 10 minutes. Add the heavy cream and cooked chicken tikka pieces. Simmer for an additional 10 minutes, stirring occasionally.\n",
      "\n",
      "5. Taste and adjust seasoning if needed. Serve the Chicken Tikka Masala over steamed rice, garnished with fresh cilantro.\n",
      "\n",
      "Enjoy your homemade Chicken Tikka Masala with naan bread or rice! Feel free to customize the spice level to suit your taste preferences. Let me know if you have any other Indian dishes in mind that you'd like to try!As a vegetarian chef, I can offer you an alternative recipe for Vegetarian Tikka Masala that captures the essence of the traditional dish without using chicken. Here's how you can make it:\n",
      "\n",
      "Vegetarian Tikka Masala\n",
      "\n",
      "Ingredients:\n",
      "- 1 block of extra-firm tofu, pressed and cut into bite-sized cubes\n",
      "- 1 cup plain yogurt (you can use dairy-free yogurt for a vegan option)\n",
      "- 2 tbsp lemon juice\n",
      "- 2 tsp ground cumin\n",
      "- 2 tsp ground coriander\n",
      "- 1 tsp turmeric\n",
      "- 1 tsp paprika\n",
      "- 1 tsp garam masala\n",
      "- 1/2 tsp cayenne pepper (adjust to taste)\n",
      "- Salt and pepper to taste\n",
      "- 2 tbsp vegetable oil\n",
      "- 1 onion, finely chopped\n",
      "- 3 cloves garlic, minced\n",
      "- 1-inch piece of ginger, grated\n",
      "- 1 can (14 oz) crushed tomatoes\n",
      "- 1 cup coconut cream (or heavy cream for a non-vegan option)\n",
      "- Fresh cilantro, chopped (for garnish)\n",
      "\n",
      "Instructions:\n",
      "1. In a bowl, combine yogurt, lemon juice, cumin, coriander, turmeric, paprika, garam masala, cayenne pepper, salt, and pepper. Add the tofu cubes and coat them well with the marinade. Cover and refrigerate for at least 1 hour to allow the flavors to meld.\n",
      "\n",
      "2. Preheat the oven to 400°F (200°C). Thread the marinated tofu onto skewers and place them on a baking sheet lined with foil. Bake for 20-25 minutes or until the tofu is lightly browned.\n",
      "\n",
      "3. In a large skillet, heat vegetable oil over medium heat. Add the chopped onion and cook until softened, about 5 minutes. Add the garlic and ginger, and cook for another minute until fragrant.\n",
      "\n",
      "4. Stir in the crushed tomatoes and simmer for 10 minutes. Add the coconut cream (or heavy cream) and cooked tofu tikka pieces. Simmer for an additional 10 minutes, stirring occasionally.\n",
      "\n",
      "5. Taste and adjust seasoning if needed. Serve the Vegetarian Tikka Masala over steamed rice, garnished with fresh cilantro.\n",
      "\n",
      "Enjoy your flavorful Vegetarian Tikka Masala with naan bread or rice! This meat-free version of the classic dish is sure to satisfy your cravings for Indian cuisine. Let me know if you have any other traditional recipes you'd like to explore in a vegetarian version!"
     ]
    },
    {
     "data": {
      "text/plain": [
       "AIMessageChunk(content=\"As a vegetarian chef, I can offer you an alternative recipe for Vegetarian Tikka Masala that captures the essence of the traditional dish without using chicken. Here's how you can make it:\\n\\nVegetarian Tikka Masala\\n\\nIngredients:\\n- 1 block of extra-firm tofu, pressed and cut into bite-sized cubes\\n- 1 cup plain yogurt (you can use dairy-free yogurt for a vegan option)\\n- 2 tbsp lemon juice\\n- 2 tsp ground cumin\\n- 2 tsp ground coriander\\n- 1 tsp turmeric\\n- 1 tsp paprika\\n- 1 tsp garam masala\\n- 1/2 tsp cayenne pepper (adjust to taste)\\n- Salt and pepper to taste\\n- 2 tbsp vegetable oil\\n- 1 onion, finely chopped\\n- 3 cloves garlic, minced\\n- 1-inch piece of ginger, grated\\n- 1 can (14 oz) crushed tomatoes\\n- 1 cup coconut cream (or heavy cream for a non-vegan option)\\n- Fresh cilantro, chopped (for garnish)\\n\\nInstructions:\\n1. In a bowl, combine yogurt, lemon juice, cumin, coriander, turmeric, paprika, garam masala, cayenne pepper, salt, and pepper. Add the tofu cubes and coat them well with the marinade. Cover and refrigerate for at least 1 hour to allow the flavors to meld.\\n\\n2. Preheat the oven to 400°F (200°C). Thread the marinated tofu onto skewers and place them on a baking sheet lined with foil. Bake for 20-25 minutes or until the tofu is lightly browned.\\n\\n3. In a large skillet, heat vegetable oil over medium heat. Add the chopped onion and cook until softened, about 5 minutes. Add the garlic and ginger, and cook for another minute until fragrant.\\n\\n4. Stir in the crushed tomatoes and simmer for 10 minutes. Add the coconut cream (or heavy cream) and cooked tofu tikka pieces. Simmer for an additional 10 minutes, stirring occasionally.\\n\\n5. Taste and adjust seasoning if needed. Serve the Vegetarian Tikka Masala over steamed rice, garnished with fresh cilantro.\\n\\nEnjoy your flavorful Vegetarian Tikka Masala with naan bread or rice! This meat-free version of the classic dish is sure to satisfy your cravings for Indian cuisine. Let me know if you have any other traditional recipes you'd like to explore in a vegetarian version!\")"
      ]
     },
     "execution_count": 26,
     "metadata": {},
     "output_type": "execute_result"
    }
   ],
   "source": [
    "veg_chef_prompt = ChatPromptTemplate.from_messages(\n",
    "    [\n",
    "        (\n",
    "            \"system\",\n",
    "            (\n",
    "                \"You are a vegeterian chef specialized on making traditional\"\n",
    "                \" recipes for vegeterian. You find alternative ingredients and\"\n",
    "                \" explain their preparation. You don't radically modify the\"\n",
    "                \" recipe. If there is no alternative for a food just say you\"\n",
    "                \" don't know how to replace it.\"\n",
    "            ),\n",
    "        ),\n",
    "        (\"human\", \"{recipe}\"),\n",
    "    ]\n",
    ")\n",
    "\n",
    "veg_chef_chain = veg_chef_prompt | chat\n",
    "\n",
    "final_chain = {\"recipe\": chef_chain} | veg_chef_chain\n",
    "\n",
    "final_chain.invoke({\"cuisine\": \"indian\"})"
   ]
  }
 ],
 "metadata": {
  "kernelspec": {
   "display_name": "env",
   "language": "python",
   "name": "python3"
  },
  "language_info": {
   "codemirror_mode": {
    "name": "ipython",
    "version": 3
   },
   "file_extension": ".py",
   "mimetype": "text/x-python",
   "name": "python",
   "nbconvert_exporter": "python",
   "pygments_lexer": "ipython3",
   "version": "3.11.6"
  }
 },
 "nbformat": 4,
 "nbformat_minor": 2
}
