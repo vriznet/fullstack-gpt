{
 "cells": [
  {
   "cell_type": "code",
   "execution_count": 11,
   "metadata": {},
   "outputs": [],
   "source": [
    "from langchain.chat_models.openai import ChatOpenAI\n",
    "from langchain.prompts import PromptTemplate\n",
    "\n",
    "\n",
    "def get_weather(lon, lat):\n",
    "    print(lon)\n",
    "    print(lat)\n",
    "\n",
    "\n",
    "function = {\n",
    "    \"name\": \"get_weather\",\n",
    "    \"description\": (\n",
    "        \"function that takes longitude and latitude to find the weather of a\"\n",
    "        \" place\"\n",
    "    ),\n",
    "    \"parameters\": {\n",
    "        \"type\": \"object\",\n",
    "        \"properties\": {\n",
    "            \"lon\": {\n",
    "                \"type\": \"string\",\n",
    "                \"description\": \"The longitude coordinate\",\n",
    "            },\n",
    "            \"lat\": {\n",
    "                \"type\": \"string\",\n",
    "                \"description\": \"The latitude coordinate\",\n",
    "            },\n",
    "        },\n",
    "    },\n",
    "    \"required\": [\"lon\", \"lat\"],\n",
    "}\n",
    "\n",
    "llm = ChatOpenAI(\n",
    "    model=\"gpt-3.5-turbo\",\n",
    "    temperature=0.1,\n",
    ").bind(\n",
    "    functions=[function],\n",
    "    function_call=\"auto\",\n",
    ")\n",
    "\n",
    "prompt = PromptTemplate.from_template(\"What is the weather in {city}?\")\n",
    "\n",
    "chain = prompt | llm\n",
    "\n",
    "response = chain.invoke({\"city\": \"New York\"})\n",
    "\n",
    "response = response.additional_kwargs[\"function_call\"][\"arguments\"]"
   ]
  },
  {
   "cell_type": "code",
   "execution_count": 12,
   "metadata": {},
   "outputs": [
    {
     "name": "stdout",
     "output_type": "stream",
     "text": [
      "-74.006\n",
      "40.7128\n"
     ]
    }
   ],
   "source": [
    "import json\n",
    "\n",
    "r = json.loads(response)\n",
    "\n",
    "get_weather(r[\"lon\"], r[\"lat\"])"
   ]
  }
 ],
 "metadata": {
  "kernelspec": {
   "display_name": "env",
   "language": "python",
   "name": "python3"
  },
  "language_info": {
   "codemirror_mode": {
    "name": "ipython",
    "version": 3
   },
   "file_extension": ".py",
   "mimetype": "text/x-python",
   "name": "python",
   "nbconvert_exporter": "python",
   "pygments_lexer": "ipython3",
   "version": "3.11.6"
  }
 },
 "nbformat": 4,
 "nbformat_minor": 2
}
