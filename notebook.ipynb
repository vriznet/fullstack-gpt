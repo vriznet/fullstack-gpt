{
 "cells": [
  {
   "cell_type": "code",
   "execution_count": 6,
   "metadata": {},
   "outputs": [
    {
     "data": {
      "text/plain": [
       "' The distance between Mexico and Thailand depends on whether you are measuring the straight line (air) distance or the great circle (by sea) distance. Here are the approximate values for each:\\n\\n* Straight line (Air) distance: About 12,300 kilometers (7,640 miles).\\n* Great Circle (Sea) distance: About 15,800 kilometers (9,810 miles).\\n\\nThese distances are calculated using the Haversine formula, which is commonly used to calculate the great circle distance between two points on a sphere such as the Earth.'"
      ]
     },
     "execution_count": 6,
     "metadata": {},
     "output_type": "execute_result"
    }
   ],
   "source": [
    "from langchain.chat_models import ChatOllama\n",
    "from langchain.prompts import PromptTemplate, ChatPromptTemplate\n",
    "\n",
    "chat = ChatOllama(model=\"mistral:latest\", temperature=0.1)\n",
    "\n",
    "template = PromptTemplate.from_template(\"What is the distance between {country_a} and {country_b}?\")\n",
    "\n",
    "prompt = template.format(country_a=\"Mexico\", country_b=\"Thailand\")\n",
    "\n",
    "chat.predict(prompt)"
   ]
  },
  {
   "cell_type": "code",
   "execution_count": 11,
   "metadata": {},
   "outputs": [
    {
     "data": {
      "text/plain": [
       "\" � /******/ Mexico와 Thailand 간의 거리는 어떻게 되는가요? 저는 Shin Woo Lee입니다.\\n\\n(Mexico and Thailand's distance is what? I am Shin Woo Lee.)\\n\\nTo answer the question, the approximate distance between Mexico City, Mexico, and Bangkok, Thailand, is around 12,300 kilometers (7,640 miles).\""
      ]
     },
     "execution_count": 11,
     "metadata": {},
     "output_type": "execute_result"
    }
   ],
   "source": [
    "template = ChatPromptTemplate.from_messages([\n",
    "  (\"system\", \"You are a geography expert. And you only reply in {language}.\"),\n",
    "  (\"ai\", \"내 이름은 {name}입니다.\"),\n",
    "  (\"human\", \"What is the distance between {country_a} and {country_b}. Also what is your name?\"),\n",
    "])\n",
    "\n",
    "prompt = template.format_messages(\n",
    "\n",
    "  language=\"Korean\", \n",
    "  name=\"Shin Woo Lee\",\n",
    "  country_a=\"Mexico\",\n",
    "  country_b=\"Thailand\"\n",
    ")\n",
    "\n",
    "chat.predict(prompt)"
   ]
  }
 ],
 "metadata": {
  "kernelspec": {
   "display_name": "env",
   "language": "python",
   "name": "python3"
  },
  "language_info": {
   "codemirror_mode": {
    "name": "ipython",
    "version": 3
   },
   "file_extension": ".py",
   "mimetype": "text/x-python",
   "name": "python",
   "nbconvert_exporter": "python",
   "pygments_lexer": "ipython3",
   "version": "3.11.6"
  }
 },
 "nbformat": 4,
 "nbformat_minor": 2
}
